{
 "cells": [
  {
   "cell_type": "markdown",
   "id": "f12a69f5-feca-4004-abb8-ec6727304be7",
   "metadata": {},
   "source": [
    "## Kizzie Trinh ##\n",
    "## SDEV 220 ##\n",
    "## Chapter 13 ##"
   ]
  },
  {
   "cell_type": "markdown",
   "id": "933e26c2-aec8-491d-8086-6b72716b8c43",
   "metadata": {},
   "source": [
    "# Section 13.1 Write the current date as a string to the text file today.txt. #"
   ]
  },
  {
   "cell_type": "code",
   "execution_count": 7,
   "id": "18b8fafc-7124-4101-bb1a-b3865e2454e3",
   "metadata": {},
   "outputs": [],
   "source": [
    "from datetime import datetime, timedelta"
   ]
  },
  {
   "cell_type": "code",
   "execution_count": 8,
   "id": "0e17604d-b8a4-4534-820d-6a1fcf38486e",
   "metadata": {},
   "outputs": [],
   "source": [
    "current_date = datetime.now().strftime('%Y-%m-%d')\n",
    "with open('today.txt', 'w') as file:\n",
    "    file.write(current_date)"
   ]
  },
  {
   "cell_type": "markdown",
   "id": "2849a727-c523-40ed-a0f9-f373a5d71b5d",
   "metadata": {},
   "source": [
    "# Section 13.2 Read the text file today.txt into the string today_string. #"
   ]
  },
  {
   "cell_type": "code",
   "execution_count": 9,
   "id": "ba932311-5703-4f42-8a43-3ef95a7dc1ef",
   "metadata": {},
   "outputs": [],
   "source": [
    "with open('today.txt', 'r') as file:\n",
    "    today_string = file.read()"
   ]
  },
  {
   "cell_type": "markdown",
   "id": "8c66c0be-dd6f-4a0e-a6a2-bfab9e343929",
   "metadata": {},
   "source": [
    "# Section 13.3 Parse the date from today_string.#"
   ]
  },
  {
   "cell_type": "code",
   "execution_count": 10,
   "id": "5c22469b-53c1-4aa4-bef3-df7545c3438e",
   "metadata": {},
   "outputs": [],
   "source": [
    "parsed_date = datetime.strptime(today_string, '%Y-%m-%d')"
   ]
  }
 ],
 "metadata": {
  "kernelspec": {
   "display_name": "Python 3 (ipykernel)",
   "language": "python",
   "name": "python3"
  },
  "language_info": {
   "codemirror_mode": {
    "name": "ipython",
    "version": 3
   },
   "file_extension": ".py",
   "mimetype": "text/x-python",
   "name": "python",
   "nbconvert_exporter": "python",
   "pygments_lexer": "ipython3",
   "version": "3.11.7"
  }
 },
 "nbformat": 4,
 "nbformat_minor": 5
}
