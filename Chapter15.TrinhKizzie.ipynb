{
 "cells": [
  {
   "cell_type": "markdown",
   "id": "dc007d1c-e18f-43de-a133-b54c6393b7ed",
   "metadata": {},
   "source": [
    "## Kizzie Trinh ##\n",
    "## SDEV 220 ##\n",
    "## Chapter 15 ##"
   ]
  },
  {
   "cell_type": "markdown",
   "id": "3b5f4d21-86fd-4560-a573-0b5ef4468e6e",
   "metadata": {},
   "source": [
    "# Section 15.1"
   ]
  },
  {
   "cell_type": "markdown",
   "id": "2aac5923-6249-4eb9-8f2a-b4f7015cc375",
   "metadata": {},
   "source": []
  },
  {
   "cell_type": "markdown",
   "id": "a27551df-953f-4207-bc0f-4e1c94ae66ff",
   "metadata": {},
   "source": []
  }
 ],
 "metadata": {
  "kernelspec": {
   "display_name": "Python 3 (ipykernel)",
   "language": "python",
   "name": "python3"
  },
  "language_info": {
   "codemirror_mode": {
    "name": "ipython",
    "version": 3
   },
   "file_extension": ".py",
   "mimetype": "text/x-python",
   "name": "python",
   "nbconvert_exporter": "python",
   "pygments_lexer": "ipython3",
   "version": "3.11.7"
  }
 },
 "nbformat": 4,
 "nbformat_minor": 5
}
